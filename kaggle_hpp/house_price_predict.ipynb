{
 "cells": [
  {
   "cell_type": "markdown",
   "id": "6e0b9b53-f08c-4001-a5af-64a90b318694",
   "metadata": {},
   "source": [
    "# 第一个实战项目——波士顿房价预测\n",
    "\n",
    "听说和手写数字识别**LeNet**并称深度学习的Hello, World!？\n",
    "\n",
    "kaggle项目地址：https://www.kaggle.com/c/house-prices-advanced-regression-techniques/\n",
    "\n",
    "该项目属于经典回归预测"
   ]
  },
  {
   "cell_type": "markdown",
   "id": "37100f39-cafb-49af-9f90-873338a6fa6e",
   "metadata": {
    "jp-MarkdownHeadingCollapsed": true
   },
   "source": [
    "## 导入所需的包\n",
    "不导入包你打算怎么用？造轮子嘛？大佬牛逼Orz"
   ]
  },
  {
   "cell_type": "code",
   "execution_count": 1,
   "id": "a53c0080-9463-4ef5-878f-f8799e2d6d6e",
   "metadata": {},
   "outputs": [],
   "source": [
    "%matplotlib inline\n",
    "import os\n",
    "import numpy                   as np\n",
    "import pandas                  as pd\n",
    "import matplotlib.pyplot       as plt\n",
    "import torch\n",
    "from   torch       import nn\n",
    "from   torch.utils import data as datatool"
   ]
  },
  {
   "cell_type": "markdown",
   "id": "4f9f614f-0e97-4452-8568-410fb5b921a0",
   "metadata": {},
   "source": [
    "|代码段|描述|\n",
    "|-------|----|\n",
    "|`%matplotlib inline`|这是一个 IPython 魔法命令，用于在 Jupyter Notebook 中直接显示 Matplotlib 绘制的图形。|\n",
    "|`import os`|用于处理文件和目录|\n",
    "|`import numpy as np`|导入 NumPy 库，并将其简写为`np`，用于高效的数值计算和数组操作。|\n",
    "|`import pandas as pd`|导入 Pandas 库，并将其简写为`pd`，用于数据分析和处理，提供 DataFrame 等数据结构。|\n",
    "|`import matplotlib.pyplot as plt`|导入`Matplotlib`中的pyplot函数并简写为`plt`|\n",
    "|`import torch`|导入 PyTorch 库，用于构建和训练神经网络模型。|\n",
    "|`from torch import nn`|从 PyTorch 库中导入`nn`模块，其中包含神经网络相关的类和函数。|\n",
    "|`from torch.utils import data as datatool`|从 PyTorch 库中的`utils`模块中导入`data`模块，其中包含数据处理相关的类和函数。|"
   ]
  },
  {
   "cell_type": "markdown",
   "id": "1a59a141-f956-4112-b239-76ebdf616679",
   "metadata": {
    "jp-MarkdownHeadingCollapsed": true
   },
   "source": [
    "## 数据处理"
   ]
  },
  {
   "cell_type": "markdown",
   "id": "b24fcb22-43db-4404-80f4-0a0364710ca2",
   "metadata": {
    "jp-MarkdownHeadingCollapsed": true
   },
   "source": [
    "### 数据读取\n",
    "获取自身文件夹的路径，分别得到训练集与验证集中的路径后，由pandas中的read_csv进行读取"
   ]
  },
  {
   "cell_type": "code",
   "execution_count": 2,
   "id": "61fb15c7-e7eb-4a6b-9d9b-dc634f34676b",
   "metadata": {},
   "outputs": [],
   "source": [
    "current_dir = os.getcwd()\n",
    "train_path  = os.path.join(current_dir, \"train.csv\")\n",
    "train_raw   = pd.read_csv(train_path)\n",
    "test_path   = os.path.join(current_dir, \"test.csv\")\n",
    "test_raw    = pd.read_csv(test_path)"
   ]
  },
  {
   "cell_type": "markdown",
   "id": "2c443809-066d-45e7-aeb5-58dc6c812ba3",
   "metadata": {},
   "source": [
    "|代码段|描述|\n",
    "|-------|----|\n",
    "|`os.getcwd()`|获取当前文件夹|\n",
    "|`os.path.join(A, B)`|将文件夹路径A与csv文件名B链接得到csv文件访问路径|\n",
    "|`pd.read_csv`|使用pandas对csv文件进行读取|"
   ]
  },
  {
   "cell_type": "markdown",
   "id": "22f9def7-fc13-4baa-a9c4-aac44f0b1529",
   "metadata": {
    "jp-MarkdownHeadingCollapsed": true
   },
   "source": [
    "### 数据查看"
   ]
  },
  {
   "cell_type": "markdown",
   "id": "9fd9cbe6-0222-470e-ae33-46bf306a40d3",
   "metadata": {},
   "source": [
    "你也不希望你的数据有问题吧"
   ]
  },
  {
   "cell_type": "code",
   "execution_count": 3,
   "id": "48edc6cd-d8ec-4988-9277-d1654a3e05d8",
   "metadata": {},
   "outputs": [
    {
     "name": "stdout",
     "output_type": "stream",
     "text": [
      "(1460, 81)\n",
      "(1459, 80)\n",
      "   Id  MSSubClass MSZoning  LotFrontage SaleType SaleCondition  SalePrice\n",
      "0   1          60       RL         65.0       WD        Normal     208500\n",
      "1   2          20       RL         80.0       WD        Normal     181500\n",
      "2   3          60       RL         68.0       WD        Normal     223500\n",
      "3   4          70       RL         60.0       WD       Abnorml     140000\n",
      "4   5          60       RL         84.0       WD        Normal     250000\n"
     ]
    }
   ],
   "source": [
    "print(train_raw.shape)\n",
    "print(test_raw.shape)\n",
    "print(train_raw.iloc[0:5, [0, 1, 2, 3, -3, -2, -1]])"
   ]
  },
  {
   "cell_type": "markdown",
   "id": "7bc2989c-3615-4dd0-b0ee-a08f9f04e38a",
   "metadata": {},
   "source": [
    "|代码段|描述|\n",
    "|-------|----|\n",
    "|`\"数据\".shape`|获取当前数据形状|\n",
    "|`\"数据\".iloc`|基于整数位置进行数据选择的索引方法|"
   ]
  },
  {
   "cell_type": "markdown",
   "id": "24f2c5cc-3790-4445-a77b-3b6ae1d4653d",
   "metadata": {
    "jp-MarkdownHeadingCollapsed": true
   },
   "source": [
    "### 数据整合\n",
    "将训练集（train_raw）与验证集(test_raw)进行整合，同步数据处理"
   ]
  },
  {
   "cell_type": "code",
   "execution_count": 4,
   "id": "f248c983-5e39-4faf-9093-03f388a8cd30",
   "metadata": {},
   "outputs": [
    {
     "name": "stdout",
     "output_type": "stream",
     "text": [
      "   MSSubClass MSZoning  LotFrontage  LotArea  YrSold SaleType SaleCondition\n",
      "0          60       RL         65.0     8450    2008       WD        Normal\n",
      "1          20       RL         80.0     9600    2007       WD        Normal\n",
      "2          60       RL         68.0    11250    2008       WD        Normal\n",
      "3          70       RL         60.0     9550    2006       WD       Abnorml\n",
      "4          60       RL         84.0    14260    2008       WD        Normal\n"
     ]
    }
   ],
   "source": [
    "all_feats_raw = pd.concat((train_raw.iloc[:, 1:-1], test_raw.iloc[:, 1:]))\n",
    "print(all_feats_raw.iloc[0:5, [0, 1, 2, 3, -3, -2, -1]])"
   ]
  },
  {
   "cell_type": "markdown",
   "id": "27d685c5-b0bd-4d1f-9385-192519631dc7",
   "metadata": {},
   "source": [
    "|代码段|描述|\n",
    "|----|----|\n",
    "|`pd.concat`|链接两个数据|"
   ]
  },
  {
   "cell_type": "markdown",
   "id": "cc6d8839-9c65-4493-90fa-2a961735e5c6",
   "metadata": {
    "jp-MarkdownHeadingCollapsed": true
   },
   "source": [
    "### 数据预处理\n",
    "对数据预处理使得更好地投喂给你的神经网络"
   ]
  },
  {
   "cell_type": "markdown",
   "id": "43bcfcf2-0098-42bb-9270-7485d673e1b1",
   "metadata": {
    "jp-MarkdownHeadingCollapsed": true
   },
   "source": [
    "#### 量化值处理\n",
    "对量化值进行归一化，你可以理解成将蔬菜切成等份的小块以便食用"
   ]
  },
  {
   "cell_type": "code",
   "execution_count": 5,
   "id": "99d94ffa-b39a-42ed-818d-5179074dcb47",
   "metadata": {},
   "outputs": [
    {
     "name": "stdout",
     "output_type": "stream",
     "text": [
      "   MSSubClass MSZoning  LotFrontage   LotArea    YrSold SaleType SaleCondition\n",
      "0    0.067320       RL    -0.184443 -0.217841  0.157619       WD        Normal\n",
      "1   -0.873466       RL     0.458096 -0.072032 -0.602858       WD        Normal\n",
      "2    0.067320       RL    -0.055935  0.137173  0.157619       WD        Normal\n",
      "3    0.302516       RL    -0.398622 -0.078371 -1.363335       WD       Abnorml\n",
      "4    0.067320       RL     0.629439  0.518814  0.157619       WD        Normal\n",
      "5   -0.167877       RL     0.672275  0.500430  0.918095       WD        Normal\n",
      "6   -0.873466       RL     0.243916 -0.010665 -0.602858       WD        Normal\n",
      "7    0.067320       RL     0.000000  0.027119  0.918095       WD        Normal\n",
      "8   -0.167877       RM    -0.784145 -0.513264  0.157619       WD       Abnorml\n",
      "9    3.124875       RL    -0.826981 -0.348436  0.157619       WD        Normal\n"
     ]
    }
   ],
   "source": [
    "numeric_feats = all_feats_raw.dtypes[all_feats_raw.dtypes != 'object'].index\n",
    "\n",
    "all_feats_raw[numeric_feats] = all_feats_raw[numeric_feats].apply(\n",
    "    lambda x: (x - x.mean()) / (x.std()))\n",
    "all_feats_raw[numeric_feats] = all_feats_raw[numeric_feats].fillna(0)\n",
    "\n",
    "print(all_feats_raw.iloc[0:10, [0, 1, 2, 3, -3, -2, -1]])"
   ]
  },
  {
   "cell_type": "markdown",
   "id": "f8da311e-d0de-4a40-9dcb-05c3e52e1837",
   "metadata": {},
   "source": [
    "|代码段|描述|\n",
    "|----|----|\n",
    "|`\"数据\".dtype`|获取数据的类型|\n",
    "|`\"数据\".index`|获取列表中数据的索引值|\n",
    "|`\"数据\".mean`|获取该列的平均值|\n",
    "|`\"数据\".std`|获取该列中的标准差|\n",
    "|`\"数据\".apply`|将数据进行替换|\n",
    "|`\"数据\".fillna`|对列表中值为Nan的数进行填充|"
   ]
  },
  {
   "cell_type": "markdown",
   "id": "8dcf549b-94d2-4d92-be1a-a5e38f15c3f4",
   "metadata": {
    "jp-MarkdownHeadingCollapsed": true
   },
   "source": [
    "#### 非量化值处理\n",
    "不同酱汁对食材口味的影响？？？\n",
    "\n",
    "对无法量化的值，使用独热编码进行处理以表示有无"
   ]
  },
  {
   "cell_type": "code",
   "execution_count": 6,
   "id": "db009490-de35-4c24-ac42-2e3b2ee1d987",
   "metadata": {},
   "outputs": [
    {
     "data": {
      "text/plain": [
       "(2919, 330)"
      ]
     },
     "execution_count": 6,
     "metadata": {},
     "output_type": "execute_result"
    }
   ],
   "source": [
    "all_feats_raw = pd.get_dummies(all_feats_raw, dummy_na=True).astype('float32')\n",
    "all_feats_raw.shape"
   ]
  },
  {
   "cell_type": "markdown",
   "id": "30fa1a2d-b923-430f-ba28-3460c6eff85c",
   "metadata": {},
   "source": [
    "|代码段|描述|\n",
    "|----|----|\n",
    "|`dummy_na`|是否对Nan值进行处理？|\n",
    "|`pd.get_dummies`|调用pandas中的get_dummies以进行独热编码处理|\n",
    "|`\"数据\".astype('类型')`|对数据的类型进行变化|"
   ]
  },
  {
   "cell_type": "markdown",
   "id": "86490440-a14d-4014-a010-c0da3a9c0f73",
   "metadata": {
    "jp-MarkdownHeadingCollapsed": true
   },
   "source": [
    "### 数据分离\n",
    "现在需要使训练集与验证集分离，分别进行不同的操作"
   ]
  },
  {
   "cell_type": "code",
   "execution_count": 7,
   "id": "0ec1f715-dae8-4606-92a8-6d48464f6095",
   "metadata": {},
   "outputs": [],
   "source": [
    "n_train      = train_raw.shape[0]\n",
    "train_feats  = torch.tensor(\n",
    "               all_feats_raw[:n_train].values, dtype=torch.float32)\n",
    "test_feats   = torch.tensor(\n",
    "               all_feats_raw[n_train:].values, dtype=torch.float32)\n",
    "train_labels = torch.tensor(\n",
    "               train_raw.SalePrice.values.reshape(-1, 1), dtype=torch.float32)"
   ]
  },
  {
   "cell_type": "markdown",
   "id": "94f4a8b2-202f-42d3-992e-4f8cc3eda919",
   "metadata": {},
   "source": [
    "|代码段|描述|\n",
    "|----|----|\n",
    "|`\"数据\".values`|获取数据中的内容|\n",
    "|`dtype=torch.类型`|决定输出数据的类型|\n",
    "|`torch.tensor`|将数据变为torch张量以进行深度学习处理|\n",
    "|`\"数据\".reshape`|对张量进行尺寸变化|"
   ]
  },
  {
   "cell_type": "markdown",
   "id": "1ded2de3-fadd-4cad-9f1c-6c74e1fb3e61",
   "metadata": {},
   "source": [
    "## 训练准备"
   ]
  },
  {
   "cell_type": "markdown",
   "id": "77f67ebd-9217-4da5-a4e9-47e06dc8f6ce",
   "metadata": {},
   "source": [
    "### 模型选择\n",
    "入门起见，选择简单的一层模型，即线性模型。"
   ]
  },
  {
   "cell_type": "code",
   "execution_count": 8,
   "id": "6ad9349b-686e-4526-962f-e295878587e4",
   "metadata": {},
   "outputs": [],
   "source": [
    "in_feats = train_feats.shape[1]\n",
    "\n",
    "def get_net():\n",
    "    net = nn.Sequential(nn.Linear(in_feats, 1), nn.ReLU())\n",
    "    return net"
   ]
  },
  {
   "cell_type": "markdown",
   "id": "43c60c18-b2b2-4551-9626-5cf0fb1c7698",
   "metadata": {},
   "source": [
    "|代码段|描述|\n",
    "|----|----|\n",
    "|`nn.MSELoss`|$\\frac{\\sum_{i=1}^{n} (x_{pred\\_i} - x_{true\\_i})^2} {n}$ 简单易用|\n",
    "|`nn.Linear(输入数, 输出数)`|使用线性模型|\n",
    "|`nn.Sequential`|创建一个序列，以自定义序列中模型的选择|"
   ]
  },
  {
   "cell_type": "markdown",
   "id": "8a7baf2b-3c1d-4541-99eb-5ebea769393a",
   "metadata": {
    "jp-MarkdownHeadingCollapsed": true
   },
   "source": [
    "### 评价函数\n",
    "选择合理的评价函数，选择相对误差或对数误差"
   ]
  },
  {
   "cell_type": "code",
   "execution_count": 9,
   "id": "d2643d9e-c73a-4821-8913-bd1469738df0",
   "metadata": {},
   "outputs": [],
   "source": [
    "loss     = nn.MSELoss()\n",
    "\n",
    "def log_rmse(net, feats, labels):\n",
    "    clipped_preds = torch.clamp(net(feats), 1, float('inf'))\n",
    "    rmse_loss     = torch.sqrt(\n",
    "                    loss(torch.log(clipped_preds), torch.log(labels)))\n",
    "    return rmse_loss.item()"
   ]
  },
  {
   "cell_type": "markdown",
   "id": "cf62d54f-c680-4a41-9e95-6204bbd39a8c",
   "metadata": {},
   "source": [
    "|代码段|描述|\n",
    "|----|----|\n",
    "|`torch.clamp(\"数据\", x, y)`|将数据限制在\\[x, y]内|\n",
    "|`torch.log(\"数据\")`|对数据做对数处理|\n",
    "|`torch.sqrt(\"数据\")`|对数据做开方处理|\n",
    "|`\"数据\".item()`|以python数字返回数据|"
   ]
  },
  {
   "cell_type": "markdown",
   "id": "d7497230-e20b-4f2c-aab8-d9b175131ec2",
   "metadata": {},
   "source": [
    "### 训练函数\n",
    "数（zen）据（me）喂（chi）食（fan）"
   ]
  },
  {
   "cell_type": "code",
   "execution_count": 10,
   "id": "0597d1b7-b548-484d-add6-cae3da0ebc6f",
   "metadata": {},
   "outputs": [],
   "source": [
    "def train(net, train_feats, train_labels, test_feats, test_labels,\n",
    "          num_epochs, learning_rate, weight_decay, batch_size):\n",
    "    # 数据热身(bushi\n",
    "    train_ls, test_ls = [], []\n",
    "    dataset           = datatool.TensorDataset(train_feats, train_labels)\n",
    "    train_iter        = datatool.DataLoader(\n",
    "                        dataset, batch_size=batch_size, shuffle=True)\n",
    "    optimizer         = torch.optim.Adam(net.parameters(), \n",
    "                                         lr=learning_rate, \n",
    "                                         weight_decay=weight_decay)\n",
    "    # 开始训练，训练epoch次\n",
    "    for epoch in range(num_epochs):\n",
    "        # 每epoch中，循环将batch_size个数据输入训练\n",
    "        for X, y in train_iter:\n",
    "            optimizer.zero_grad()\n",
    "            l = loss(net(X), y)\n",
    "            l.backward()\n",
    "            optimizer.step()\n",
    "        train_ls.append(log_rmse(net, train_feats, train_labels))\n",
    "        if test_labels is not None:\n",
    "            test_ls.append(log_rmse(net, test_feats, test_labels))\n",
    "    return train_ls, test_ls"
   ]
  },
  {
   "cell_type": "markdown",
   "id": "4d12d96a-da96-4657-974b-21b57140cb0d",
   "metadata": {},
   "source": [
    "|代码段|描述|\n",
    "|----|----|\n",
    "|`TensorDataset`|链接训练特征与训练标签|\n",
    "|`DataLoader`|创建一个数据加载器，指定每次训练批次数量与是否打乱|\n",
    "|`net.parameters()`|将网络中的可学习参数喂给Adam优化器|\n",
    "|`torch.optim.Adam`|使用Adam优化器作为网络的更新器|\n",
    "|`optimizer.zero_grad()`|每次加载新批次时清空上一个批次的梯度信息|\n",
    "|`\"损失\".backward()`|对损失求梯度信息|\n",
    "|`optimizer.step()`|使用优化器更新更新网络中的参数信息|\n",
    "|`\"列表\".append`|每次训练循环后加入此次的评价损失|"
   ]
  },
  {
   "cell_type": "markdown",
   "id": "75d3035c-71ea-49c1-ad39-82e1041b8c40",
   "metadata": {},
   "source": [
    "### K折交叉验证\n",
    "将模型正式验证前，先不断训练至自己满意的状态，然而大多数情况下，训练集不一定够用，需要合理的评价方法"
   ]
  },
  {
   "cell_type": "markdown",
   "id": "56c82db4-e7e1-43d9-958a-0ad015c38fc2",
   "metadata": {
    "jp-MarkdownHeadingCollapsed": true
   },
   "source": [
    "#### 构造K-1部分的训练集数据与1个尺度的验证集"
   ]
  },
  {
   "cell_type": "code",
   "execution_count": 11,
   "id": "5df32c8d-73bb-4e3f-a4e6-3a322e3223e3",
   "metadata": {},
   "outputs": [],
   "source": [
    "def get_k_fold_data(k, i, X, y):\n",
    "    assert k > 1\n",
    "    fold_size = X.shape[0] // k\n",
    "    X_train, y_train = None, None\n",
    "    for j in range(k):\n",
    "        idx = slice(j * fold_size, (j + 1) * fold_size)\n",
    "        X_part, y_part = X[idx, :], y[idx]\n",
    "        if j == i:\n",
    "            X_valid, y_valid = X_part, y_part\n",
    "        elif X_train is None:\n",
    "            X_train, y_train = X_part, y_part\n",
    "        else:\n",
    "            X_train = torch.cat([X_train, X_part], 0)\n",
    "            y_train = torch.cat([y_train, y_part], 0)\n",
    "    return X_train, y_train, X_valid, y_valid"
   ]
  },
  {
   "cell_type": "markdown",
   "id": "18f3bd17-be3b-440b-b0cd-7c54f19ec516",
   "metadata": {},
   "source": [
    "|代码段|描述|\n",
    "|----|----|\n",
    "|`assert`|python中的断言，如果情况错误将直接报错|\n",
    "|`slice(x, y)`|默认步长为一，返回x至y-1内的所有索引值|\n",
    "|`torch.cat([x, y], z)`|torch的数据链接方式，将x与y沿z轴方向进行链接|"
   ]
  },
  {
   "cell_type": "markdown",
   "id": "c051e0ed-acab-49f9-916d-d8090c1148f3",
   "metadata": {},
   "source": [
    "#### 构造具体的K次训练循环"
   ]
  },
  {
   "cell_type": "code",
   "execution_count": 12,
   "id": "8bbfa6f3-d51e-4ad3-80df-af145ca16fe6",
   "metadata": {},
   "outputs": [],
   "source": [
    "def k_fold(k, X_train, y_train, \n",
    "           num_epochs, learning_rate, weight_decay,batch_size):\n",
    "    train_l_sum, valid_l_sum = 0, 0\n",
    "    for i in range(k):\n",
    "        data = get_k_fold_data(k, i, X_train, y_train)\n",
    "        net = get_net()\n",
    "        train_ls, valid_ls = train(net, *data, num_epochs, \n",
    "                                   learning_rate, weight_decay, batch_size)\n",
    "        train_l_sum += train_ls[-1]\n",
    "        valid_l_sum += valid_ls[-1]\n",
    "        if i == 0:\n",
    "            plt.figure(dpi=300, figsize=(5,3))\n",
    "            plt.xlabel('epoch')\n",
    "            plt.ylabel('rmse')\n",
    "            plt.yscale('log')\n",
    "            plt.grid(True)\n",
    "            plt.plot(list(range(1, num_epochs + 1)), train_ls,\n",
    "                     label='train', color='blue', linestyle='-')\n",
    "            plt.plot(list(range(1, num_epochs + 1)), valid_ls,\n",
    "                     label='valid', color='red', linestyle='--')\n",
    "            plt.legend()\n",
    "        print(f'折{i + 1}, 训练log rmse:{float(train_ls[-1]):f},'\n",
    "              f'验证log rmse:{float(valid_ls[-1]):f}')\n",
    "    return train_l_sum / k, valid_l_sum / k"
   ]
  },
  {
   "cell_type": "markdown",
   "id": "69f95256-3c3d-4307-8799-252be888be86",
   "metadata": {},
   "source": [
    "|代码段|描述|\n",
    "|----|----|\n",
    "|`plt.figure(dpi=z, figsize=(x, y))`|绘制DPI为z，大小为(x, y)的图表|\n",
    "|`plt.xlabel('x轴名称')`|图表x轴名称设置|\n",
    "|`plt.ylabel('y轴名称')`|图表y轴名称设置|\n",
    "|`plt.yscale('log')`|图标y轴以对数缩放|\n",
    "|`plt.grid(True)`|绘制图表背景网格|\n",
    "|`plt.plot(x, y, label='线条名称', color='颜色', linestyle='线条样式')`|绘制线条及设置线条名称、颜色、线条样式等|\n",
    "|`plt.legend()`|用于表示图表中线条的说明|"
   ]
  },
  {
   "cell_type": "markdown",
   "id": "1b8b35c2-1f23-49a2-92dd-c6a6059615f4",
   "metadata": {},
   "source": [
    "## 训练"
   ]
  },
  {
   "cell_type": "markdown",
   "id": "3897166a-0b59-406e-937f-1c902558b95e",
   "metadata": {},
   "source": [
    "### K折训练"
   ]
  },
  {
   "cell_type": "code",
   "execution_count": 13,
   "id": "86c0716b-f421-40cd-86dd-8ef93a6900c5",
   "metadata": {},
   "outputs": [
    {
     "name": "stdout",
     "output_type": "stream",
     "text": [
      "折1, 训练log rmse:0.136072,验证log rmse:0.143191\n",
      "折2, 训练log rmse:0.133534,验证log rmse:0.148660\n",
      "折3, 训练log rmse:0.131861,验证log rmse:0.141967\n",
      "折4, 训练log rmse:0.136848,验证log rmse:0.140732\n",
      "折5, 训练log rmse:0.131191,验证log rmse:0.171230\n",
      "5-折验证: 平均训练log rmse: 0.133901, 平均验证log rmse: 0.149156\n"
     ]
    },
    {
     "data": {
      "image/png": "[encoded data removed]",
      "text/plain": [
       "<Figure size 1500x900 with 1 Axes>"
      ]
     },
     "metadata": {},
     "output_type": "display_data"
    }
   ],
   "source": [
    "k, num_epochs, lr, weight_decay, batch_size = 5, 75, 22.5, 0, 64\n",
    "train_l, valid_l = k_fold(k, train_feats, train_labels,\n",
    "                          num_epochs, lr, weight_decay, batch_size)\n",
    "print(f'{k}-折验证: 平均训练log rmse: {float(train_l):f}, '\n",
    "      f'平均验证log rmse: {float(valid_l):f}')"
   ]
  },
  {
   "cell_type": "markdown",
   "id": "0d820df4-ca22-45f2-b74a-e839ee6bbb54",
   "metadata": {},
   "source": [
    "### 使用全部数据进行预测且生成csv文件"
   ]
  },
  {
   "cell_type": "code",
   "execution_count": 16,
   "id": "9788a64f-1e79-4f16-ae0b-e5fbee3ec7ed",
   "metadata": {},
   "outputs": [],
   "source": [
    "def train_and_pred(train_feats, test_feats, train_labels, test_data,\n",
    "                   num_epochs, lr, weight_decay, batch_size):\n",
    "    net         = get_net()\n",
    "    train_ls, _ = train(net, train_feats, train_labels, None, None,\n",
    "                        num_epochs, lr, weight_decay, batch_size)\n",
    "    \n",
    "    plt.figure(figsize=(5, 3), dpi=300)\n",
    "    plt.xlabel('epoch')\n",
    "    plt.ylabel('log rmse')\n",
    "    plt.yscale('log')\n",
    "    plt.plot(np.arange(1, num_epochs + 1), train_ls)\n",
    "    print(f'训练log rmse：{float(train_ls[-1]):f}')\n",
    "    \n",
    "    preds = net(test_feats).detach().numpy()\n",
    "    test_data['SalePrice'] = pd.Series(preds.reshape(1, -1)[0])\n",
    "    submission = pd.concat([test_data['Id'], test_data['SalePrice']], axis=1)\n",
    "    submission.to_csv('submission.csv', index=False)"
   ]
  },
  {
   "cell_type": "markdown",
   "id": "08dadf32-e783-4413-94b2-6cc9edd663dd",
   "metadata": {},
   "source": [
    "|代码段|描述|\n",
    "|----|----|\n",
    "|`pd.Series`|创建pd一维数组|\n",
    "|`\"数据\".to_csv`|将数据保存为csv文件|"
   ]
  },
  {
   "cell_type": "code",
   "execution_count": 17,
   "id": "af189a64-8ebc-4491-9374-38fa3699f640",
   "metadata": {},
   "outputs": [
    {
     "name": "stdout",
     "output_type": "stream",
     "text": [
      "训练log rmse：0.131455\n"
     ]
    },
    {
     "data": {
      "image/png": "[encoded data removed]",
      "text/plain": [
       "<Figure size 1500x900 with 1 Axes>"
      ]
     },
     "metadata": {},
     "output_type": "display_data"
    }
   ],
   "source": [
    "train_and_pred(train_feats, test_feats, train_labels, test_raw,\n",
    "               num_epochs, lr, weight_decay, batch_size)"
   ]
  }
 ],
 "metadata": {
  "kernelspec": {
   "display_name": "Python 3 (ipykernel)",
   "language": "python",
   "name": "python3"
  },
  "language_info": {
   "codemirror_mode": {
    "name": "ipython",
    "version": 3
   },
   "file_extension": ".py",
   "mimetype": "text/x-python",
   "name": "python",
   "nbconvert_exporter": "python",
   "pygments_lexer": "ipython3",
   "version": "3.11.8"
  }
 },
 "nbformat": 4,
 "nbformat_minor": 5
}
